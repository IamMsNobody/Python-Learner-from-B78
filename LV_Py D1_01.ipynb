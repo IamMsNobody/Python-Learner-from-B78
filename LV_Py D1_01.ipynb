{
 "cells": [
  {
   "cell_type": "code",
   "execution_count": 1,
   "id": "d433e1c2",
   "metadata": {},
   "outputs": [
    {
     "name": "stdout",
     "output_type": "stream",
     "text": [
      "Hello Beautiful World!!\n",
      "This is my 1st Python Code\n"
     ]
    }
   ],
   "source": [
    "print(\"Hello Beautiful World!!\")\n",
    "print(\"This is my 1st Python Code\")"
   ]
  },
  {
   "cell_type": "code",
   "execution_count": null,
   "id": "5fce9cd2",
   "metadata": {},
   "outputs": [],
   "source": []
  }
 ],
 "metadata": {
  "kernelspec": {
   "display_name": "Python 3 (ipykernel)",
   "language": "python",
   "name": "python3"
  },
  "language_info": {
   "codemirror_mode": {
    "name": "ipython",
    "version": 3
   },
   "file_extension": ".py",
   "mimetype": "text/x-python",
   "name": "python",
   "nbconvert_exporter": "python",
   "pygments_lexer": "ipython3",
   "version": "3.10.9"
  }
 },
 "nbformat": 4,
 "nbformat_minor": 5
}
